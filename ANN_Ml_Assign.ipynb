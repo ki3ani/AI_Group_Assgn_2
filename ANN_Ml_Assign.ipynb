{
 "cells": [
  {
   "cell_type": "code",
   "execution_count": 16,
   "id": "3beefe24",
   "metadata": {},
   "outputs": [],
   "source": [
    "#importing necessarry data analysis library to use\n",
    "import pandas as pd"
   ]
  },
  {
   "cell_type": "code",
   "execution_count": 19,
   "id": "39610290",
   "metadata": {},
   "outputs": [],
   "source": [
    "#loading the dataset\n",
    "df = pd.read_csv('C:/Users/kiman/OneDrive/Desktop/Machine_Learning_Asssign_2/housepricedata.csv')"
   ]
  },
  {
   "cell_type": "code",
   "execution_count": 3,
   "id": "e5b1d2da",
   "metadata": {},
   "outputs": [
    {
     "data": {
      "text/html": [
       "<div>\n",
       "<style scoped>\n",
       "    .dataframe tbody tr th:only-of-type {\n",
       "        vertical-align: middle;\n",
       "    }\n",
       "\n",
       "    .dataframe tbody tr th {\n",
       "        vertical-align: top;\n",
       "    }\n",
       "\n",
       "    .dataframe thead th {\n",
       "        text-align: right;\n",
       "    }\n",
       "</style>\n",
       "<table border=\"1\" class=\"dataframe\">\n",
       "  <thead>\n",
       "    <tr style=\"text-align: right;\">\n",
       "      <th></th>\n",
       "      <th>LotArea</th>\n",
       "      <th>OverallQual</th>\n",
       "      <th>OverallCond</th>\n",
       "      <th>TotalBsmtSF</th>\n",
       "      <th>FullBath</th>\n",
       "      <th>HalfBath</th>\n",
       "      <th>BedroomAbvGr</th>\n",
       "      <th>TotRmsAbvGrd</th>\n",
       "      <th>Fireplaces</th>\n",
       "      <th>GarageArea</th>\n",
       "      <th>AboveMedianPrice</th>\n",
       "    </tr>\n",
       "  </thead>\n",
       "  <tbody>\n",
       "    <tr>\n",
       "      <th>0</th>\n",
       "      <td>8450</td>\n",
       "      <td>7</td>\n",
       "      <td>5</td>\n",
       "      <td>856</td>\n",
       "      <td>2</td>\n",
       "      <td>1</td>\n",
       "      <td>3</td>\n",
       "      <td>8</td>\n",
       "      <td>0</td>\n",
       "      <td>548</td>\n",
       "      <td>1</td>\n",
       "    </tr>\n",
       "    <tr>\n",
       "      <th>1</th>\n",
       "      <td>9600</td>\n",
       "      <td>6</td>\n",
       "      <td>8</td>\n",
       "      <td>1262</td>\n",
       "      <td>2</td>\n",
       "      <td>0</td>\n",
       "      <td>3</td>\n",
       "      <td>6</td>\n",
       "      <td>1</td>\n",
       "      <td>460</td>\n",
       "      <td>1</td>\n",
       "    </tr>\n",
       "    <tr>\n",
       "      <th>2</th>\n",
       "      <td>11250</td>\n",
       "      <td>7</td>\n",
       "      <td>5</td>\n",
       "      <td>920</td>\n",
       "      <td>2</td>\n",
       "      <td>1</td>\n",
       "      <td>3</td>\n",
       "      <td>6</td>\n",
       "      <td>1</td>\n",
       "      <td>608</td>\n",
       "      <td>1</td>\n",
       "    </tr>\n",
       "    <tr>\n",
       "      <th>3</th>\n",
       "      <td>9550</td>\n",
       "      <td>7</td>\n",
       "      <td>5</td>\n",
       "      <td>756</td>\n",
       "      <td>1</td>\n",
       "      <td>0</td>\n",
       "      <td>3</td>\n",
       "      <td>7</td>\n",
       "      <td>1</td>\n",
       "      <td>642</td>\n",
       "      <td>0</td>\n",
       "    </tr>\n",
       "    <tr>\n",
       "      <th>4</th>\n",
       "      <td>14260</td>\n",
       "      <td>8</td>\n",
       "      <td>5</td>\n",
       "      <td>1145</td>\n",
       "      <td>2</td>\n",
       "      <td>1</td>\n",
       "      <td>4</td>\n",
       "      <td>9</td>\n",
       "      <td>1</td>\n",
       "      <td>836</td>\n",
       "      <td>1</td>\n",
       "    </tr>\n",
       "  </tbody>\n",
       "</table>\n",
       "</div>"
      ],
      "text/plain": [
       "   LotArea  OverallQual  OverallCond  TotalBsmtSF  FullBath  HalfBath  \\\n",
       "0     8450            7            5          856         2         1   \n",
       "1     9600            6            8         1262         2         0   \n",
       "2    11250            7            5          920         2         1   \n",
       "3     9550            7            5          756         1         0   \n",
       "4    14260            8            5         1145         2         1   \n",
       "\n",
       "   BedroomAbvGr  TotRmsAbvGrd  Fireplaces  GarageArea  AboveMedianPrice  \n",
       "0             3             8           0         548                 1  \n",
       "1             3             6           1         460                 1  \n",
       "2             3             6           1         608                 1  \n",
       "3             3             7           1         642                 0  \n",
       "4             4             9           1         836                 1  "
      ]
     },
     "execution_count": 3,
     "metadata": {},
     "output_type": "execute_result"
    }
   ],
   "source": [
    "#viewing the dataset\n",
    "df.head(5)"
   ]
  },
  {
   "cell_type": "code",
   "execution_count": 4,
   "id": "ac1e41ad",
   "metadata": {},
   "outputs": [],
   "source": [
    "dataset = df.values"
   ]
  },
  {
   "cell_type": "code",
   "execution_count": 5,
   "id": "3aa33e19",
   "metadata": {},
   "outputs": [
    {
     "data": {
      "text/plain": [
       "array([[ 8450,     7,     5, ...,     0,   548,     1],\n",
       "       [ 9600,     6,     8, ...,     1,   460,     1],\n",
       "       [11250,     7,     5, ...,     1,   608,     1],\n",
       "       ...,\n",
       "       [ 9042,     7,     9, ...,     2,   252,     1],\n",
       "       [ 9717,     5,     6, ...,     0,   240,     0],\n",
       "       [ 9937,     5,     6, ...,     0,   276,     0]], dtype=int64)"
      ]
     },
     "execution_count": 5,
     "metadata": {},
     "output_type": "execute_result"
    }
   ],
   "source": [
    "dataset"
   ]
  },
  {
   "cell_type": "code",
   "execution_count": 6,
   "id": "4526a613",
   "metadata": {},
   "outputs": [],
   "source": [
    "#We now split our dataset into input features (X) and the feature we wish to predict (Y)\n",
    "X = dataset[:,0:10]\n",
    "Y = dataset[:,10]"
   ]
  },
  {
   "cell_type": "code",
   "execution_count": 7,
   "id": "738dfc65",
   "metadata": {},
   "outputs": [
    {
     "data": {
      "text/plain": [
       "array([[0.0334198 , 0.66666667, 0.5       , ..., 0.5       , 0.        ,\n",
       "        0.3864598 ],\n",
       "       [0.03879502, 0.55555556, 0.875     , ..., 0.33333333, 0.33333333,\n",
       "        0.32440056],\n",
       "       [0.04650728, 0.66666667, 0.5       , ..., 0.33333333, 0.33333333,\n",
       "        0.42877292],\n",
       "       ...,\n",
       "       [0.03618687, 0.66666667, 1.        , ..., 0.58333333, 0.66666667,\n",
       "        0.17771509],\n",
       "       [0.03934189, 0.44444444, 0.625     , ..., 0.25      , 0.        ,\n",
       "        0.16925247],\n",
       "       [0.04037019, 0.44444444, 0.625     , ..., 0.33333333, 0.        ,\n",
       "        0.19464034]])"
      ]
     },
     "execution_count": 7,
     "metadata": {},
     "output_type": "execute_result"
    }
   ],
   "source": [
    "#preprocessing the dataset\n",
    "from sklearn import preprocessing\n",
    "min_max_scaler = preprocessing.MinMaxScaler()\n",
    "X_scale = min_max_scaler.fit_transform(X)\n",
    "X_scale"
   ]
  },
  {
   "cell_type": "code",
   "execution_count": 8,
   "id": "771bcc18",
   "metadata": {},
   "outputs": [
    {
     "name": "stdout",
     "output_type": "stream",
     "text": [
      "(1022, 10) (219, 10) (219, 10) (1022,) (219,) (219,)\n"
     ]
    }
   ],
   "source": [
    "#As you can see, the training set has 1022 data points while the validation and test set has 219 data points each. \n",
    "#The X variables have 10 input features, \n",
    "#while the Y variables only has one feature to predict.\n",
    "\n",
    "from sklearn.model_selection import train_test_split\n",
    "X_train, X_val_and_test, Y_train, Y_val_and_test = train_test_split(X_scale, Y, test_size=0.3)\n",
    "X_val, X_test, Y_val, Y_test = train_test_split(X_val_and_test, Y_val_and_test, test_size=0.5)\n",
    "print(X_train.shape, X_val.shape, X_test.shape, Y_train.shape, Y_val.shape, Y_test.shape)"
   ]
  },
  {
   "cell_type": "code",
   "execution_count": 9,
   "id": "67395de5",
   "metadata": {},
   "outputs": [],
   "source": [
    "#importing libraries from Keras\n",
    "from keras.models import Sequential\n",
    "from keras.layers import Dense"
   ]
  },
  {
   "cell_type": "code",
   "execution_count": 10,
   "id": "1c8b5c7c",
   "metadata": {},
   "outputs": [],
   "source": [
    "#The first thing we have to do is to set up the architecture. \n",
    "#Let’s first think about what kind of neural network architecture we want\n",
    "#Now, we need to describe this architecture to Keras. \n",
    "#We will be using the Sequential model\n",
    "model = Sequential([\n",
    "    Dense(32, activation='relu', input_shape=(10,)),\n",
    "    Dense(32, activation='relu'),\n",
    "    Dense(1, activation='sigmoid'),\n",
    "])"
   ]
  },
  {
   "cell_type": "code",
   "execution_count": 11,
   "id": "c0d17309",
   "metadata": {},
   "outputs": [],
   "source": [
    "#The loss function for outputs that take the values 1 or 0 is called binary cross entropy.\n",
    "#'sgd’ refers to stochastic gradient descent (over here, it refers to mini-batch gradient descent)\n",
    "#Lastly, we want to track accuracy on top of the loss function. Now once we’ve run that cell, we are ready to train!\n",
    "model.compile(optimizer='sgd',\n",
    "              loss='binary_crossentropy',\n",
    "              metrics=['accuracy'])"
   ]
  },
  {
   "cell_type": "code",
   "execution_count": 12,
   "id": "39d3da45",
   "metadata": {},
   "outputs": [
    {
     "name": "stdout",
     "output_type": "stream",
     "text": [
      "Epoch 1/100\n",
      "32/32 [==============================] - 1s 14ms/step - loss: 0.7025 - accuracy: 0.4922 - val_loss: 0.6944 - val_accuracy: 0.5114\n",
      "Epoch 2/100\n",
      "32/32 [==============================] - 0s 4ms/step - loss: 0.6934 - accuracy: 0.4951 - val_loss: 0.6883 - val_accuracy: 0.5708\n",
      "Epoch 3/100\n",
      "32/32 [==============================] - 0s 4ms/step - loss: 0.6870 - accuracy: 0.5832 - val_loss: 0.6837 - val_accuracy: 0.6347\n",
      "Epoch 4/100\n",
      "32/32 [==============================] - 0s 4ms/step - loss: 0.6822 - accuracy: 0.6624 - val_loss: 0.6798 - val_accuracy: 0.6712\n",
      "Epoch 5/100\n",
      "32/32 [==============================] - 0s 4ms/step - loss: 0.6782 - accuracy: 0.6781 - val_loss: 0.6764 - val_accuracy: 0.6621\n",
      "Epoch 6/100\n",
      "32/32 [==============================] - 0s 4ms/step - loss: 0.6745 - accuracy: 0.6879 - val_loss: 0.6730 - val_accuracy: 0.6484\n",
      "Epoch 7/100\n",
      "32/32 [==============================] - 0s 4ms/step - loss: 0.6708 - accuracy: 0.6761 - val_loss: 0.6695 - val_accuracy: 0.6621\n",
      "Epoch 8/100\n",
      "32/32 [==============================] - 0s 4ms/step - loss: 0.6673 - accuracy: 0.6820 - val_loss: 0.6659 - val_accuracy: 0.6712\n",
      "Epoch 9/100\n",
      "32/32 [==============================] - 0s 5ms/step - loss: 0.6636 - accuracy: 0.7055 - val_loss: 0.6619 - val_accuracy: 0.6895\n",
      "Epoch 10/100\n",
      "32/32 [==============================] - 0s 4ms/step - loss: 0.6597 - accuracy: 0.7192 - val_loss: 0.6578 - val_accuracy: 0.6986\n",
      "Epoch 11/100\n",
      "32/32 [==============================] - 0s 4ms/step - loss: 0.6557 - accuracy: 0.7114 - val_loss: 0.6533 - val_accuracy: 0.7306\n",
      "Epoch 12/100\n",
      "32/32 [==============================] - 0s 4ms/step - loss: 0.6517 - accuracy: 0.7505 - val_loss: 0.6489 - val_accuracy: 0.7443\n",
      "Epoch 13/100\n",
      "32/32 [==============================] - 0s 4ms/step - loss: 0.6474 - accuracy: 0.7593 - val_loss: 0.6442 - val_accuracy: 0.7534\n",
      "Epoch 14/100\n",
      "32/32 [==============================] - 0s 4ms/step - loss: 0.6429 - accuracy: 0.7671 - val_loss: 0.6392 - val_accuracy: 0.7671\n",
      "Epoch 15/100\n",
      "32/32 [==============================] - 0s 4ms/step - loss: 0.6382 - accuracy: 0.7671 - val_loss: 0.6338 - val_accuracy: 0.7808\n",
      "Epoch 16/100\n",
      "32/32 [==============================] - 0s 4ms/step - loss: 0.6329 - accuracy: 0.7740 - val_loss: 0.6281 - val_accuracy: 0.7854\n",
      "Epoch 17/100\n",
      "32/32 [==============================] - 0s 4ms/step - loss: 0.6275 - accuracy: 0.7867 - val_loss: 0.6221 - val_accuracy: 0.7900\n",
      "Epoch 18/100\n",
      "32/32 [==============================] - 0s 4ms/step - loss: 0.6218 - accuracy: 0.7828 - val_loss: 0.6157 - val_accuracy: 0.7854\n",
      "Epoch 19/100\n",
      "32/32 [==============================] - 0s 4ms/step - loss: 0.6157 - accuracy: 0.7965 - val_loss: 0.6087 - val_accuracy: 0.7854\n",
      "Epoch 20/100\n",
      "32/32 [==============================] - 0s 4ms/step - loss: 0.6091 - accuracy: 0.8023 - val_loss: 0.6012 - val_accuracy: 0.7854\n",
      "Epoch 21/100\n",
      "32/32 [==============================] - 0s 4ms/step - loss: 0.6020 - accuracy: 0.8082 - val_loss: 0.5929 - val_accuracy: 0.7991\n",
      "Epoch 22/100\n",
      "32/32 [==============================] - 0s 4ms/step - loss: 0.5942 - accuracy: 0.8121 - val_loss: 0.5842 - val_accuracy: 0.8219\n",
      "Epoch 23/100\n",
      "32/32 [==============================] - 0s 4ms/step - loss: 0.5865 - accuracy: 0.8180 - val_loss: 0.5752 - val_accuracy: 0.8265\n",
      "Epoch 24/100\n",
      "32/32 [==============================] - 0s 4ms/step - loss: 0.5781 - accuracy: 0.8288 - val_loss: 0.5660 - val_accuracy: 0.8311\n",
      "Epoch 25/100\n",
      "32/32 [==============================] - 0s 4ms/step - loss: 0.5696 - accuracy: 0.8239 - val_loss: 0.5564 - val_accuracy: 0.8402\n",
      "Epoch 26/100\n",
      "32/32 [==============================] - 0s 4ms/step - loss: 0.5608 - accuracy: 0.8386 - val_loss: 0.5470 - val_accuracy: 0.8356\n",
      "Epoch 27/100\n",
      "32/32 [==============================] - 0s 4ms/step - loss: 0.5518 - accuracy: 0.8337 - val_loss: 0.5367 - val_accuracy: 0.8447\n",
      "Epoch 28/100\n",
      "32/32 [==============================] - 0s 4ms/step - loss: 0.5425 - accuracy: 0.8386 - val_loss: 0.5264 - val_accuracy: 0.8539\n",
      "Epoch 29/100\n",
      "32/32 [==============================] - 0s 4ms/step - loss: 0.5328 - accuracy: 0.8366 - val_loss: 0.5151 - val_accuracy: 0.8767\n",
      "Epoch 30/100\n",
      "32/32 [==============================] - 0s 4ms/step - loss: 0.5235 - accuracy: 0.8513 - val_loss: 0.5054 - val_accuracy: 0.8630\n",
      "Epoch 31/100\n",
      "32/32 [==============================] - 0s 4ms/step - loss: 0.5141 - accuracy: 0.8464 - val_loss: 0.4947 - val_accuracy: 0.8721\n",
      "Epoch 32/100\n",
      "32/32 [==============================] - 0s 4ms/step - loss: 0.5043 - accuracy: 0.8474 - val_loss: 0.4843 - val_accuracy: 0.8767\n",
      "Epoch 33/100\n",
      "32/32 [==============================] - 0s 4ms/step - loss: 0.4947 - accuracy: 0.8464 - val_loss: 0.4739 - val_accuracy: 0.8813\n",
      "Epoch 34/100\n",
      "32/32 [==============================] - 0s 4ms/step - loss: 0.4855 - accuracy: 0.8474 - val_loss: 0.4625 - val_accuracy: 0.8858\n",
      "Epoch 35/100\n",
      "32/32 [==============================] - 0s 4ms/step - loss: 0.4760 - accuracy: 0.8493 - val_loss: 0.4526 - val_accuracy: 0.8858\n",
      "Epoch 36/100\n",
      "32/32 [==============================] - 0s 4ms/step - loss: 0.4665 - accuracy: 0.8532 - val_loss: 0.4449 - val_accuracy: 0.8721\n",
      "Epoch 37/100\n",
      "32/32 [==============================] - 0s 4ms/step - loss: 0.4584 - accuracy: 0.8503 - val_loss: 0.4338 - val_accuracy: 0.8813\n",
      "Epoch 38/100\n",
      "32/32 [==============================] - 0s 4ms/step - loss: 0.4495 - accuracy: 0.8532 - val_loss: 0.4226 - val_accuracy: 0.8813\n",
      "Epoch 39/100\n",
      "32/32 [==============================] - 0s 4ms/step - loss: 0.4414 - accuracy: 0.8591 - val_loss: 0.4155 - val_accuracy: 0.8813\n",
      "Epoch 40/100\n",
      "32/32 [==============================] - 0s 4ms/step - loss: 0.4334 - accuracy: 0.8562 - val_loss: 0.4073 - val_accuracy: 0.8813\n",
      "Epoch 41/100\n",
      "32/32 [==============================] - 0s 4ms/step - loss: 0.4258 - accuracy: 0.8542 - val_loss: 0.3967 - val_accuracy: 0.8858\n",
      "Epoch 42/100\n",
      "32/32 [==============================] - 0s 4ms/step - loss: 0.4186 - accuracy: 0.8581 - val_loss: 0.3895 - val_accuracy: 0.8858\n",
      "Epoch 43/100\n",
      "32/32 [==============================] - 0s 4ms/step - loss: 0.4120 - accuracy: 0.8620 - val_loss: 0.3814 - val_accuracy: 0.8858\n",
      "Epoch 44/100\n",
      "32/32 [==============================] - 0s 4ms/step - loss: 0.4055 - accuracy: 0.8591 - val_loss: 0.3749 - val_accuracy: 0.8904\n",
      "Epoch 45/100\n",
      "32/32 [==============================] - 0s 5ms/step - loss: 0.3995 - accuracy: 0.8611 - val_loss: 0.3688 - val_accuracy: 0.8858\n",
      "Epoch 46/100\n",
      "32/32 [==============================] - 0s 5ms/step - loss: 0.3939 - accuracy: 0.8630 - val_loss: 0.3628 - val_accuracy: 0.8858\n",
      "Epoch 47/100\n",
      "32/32 [==============================] - 0s 5ms/step - loss: 0.3887 - accuracy: 0.8630 - val_loss: 0.3579 - val_accuracy: 0.8813\n",
      "Epoch 48/100\n",
      "32/32 [==============================] - 0s 5ms/step - loss: 0.3834 - accuracy: 0.8571 - val_loss: 0.3521 - val_accuracy: 0.8858\n",
      "Epoch 49/100\n",
      "32/32 [==============================] - 0s 5ms/step - loss: 0.3790 - accuracy: 0.8611 - val_loss: 0.3467 - val_accuracy: 0.8904\n",
      "Epoch 50/100\n",
      "32/32 [==============================] - 0s 5ms/step - loss: 0.3746 - accuracy: 0.8689 - val_loss: 0.3416 - val_accuracy: 0.8858\n",
      "Epoch 51/100\n",
      "32/32 [==============================] - 0s 6ms/step - loss: 0.3698 - accuracy: 0.8689 - val_loss: 0.3359 - val_accuracy: 0.8858\n",
      "Epoch 52/100\n",
      "32/32 [==============================] - 0s 5ms/step - loss: 0.3666 - accuracy: 0.8640 - val_loss: 0.3351 - val_accuracy: 0.8813\n",
      "Epoch 53/100\n",
      "32/32 [==============================] - 0s 5ms/step - loss: 0.3629 - accuracy: 0.8699 - val_loss: 0.3302 - val_accuracy: 0.8813\n",
      "Epoch 54/100\n",
      "32/32 [==============================] - 0s 5ms/step - loss: 0.3598 - accuracy: 0.8679 - val_loss: 0.3269 - val_accuracy: 0.8813\n",
      "Epoch 55/100\n",
      "32/32 [==============================] - 0s 5ms/step - loss: 0.3564 - accuracy: 0.8679 - val_loss: 0.3254 - val_accuracy: 0.8813\n",
      "Epoch 56/100\n",
      "32/32 [==============================] - 0s 5ms/step - loss: 0.3536 - accuracy: 0.8689 - val_loss: 0.3188 - val_accuracy: 0.8904\n",
      "Epoch 57/100\n",
      "32/32 [==============================] - 0s 5ms/step - loss: 0.3507 - accuracy: 0.8679 - val_loss: 0.3149 - val_accuracy: 0.8858\n",
      "Epoch 58/100\n",
      "32/32 [==============================] - 0s 5ms/step - loss: 0.3486 - accuracy: 0.8679 - val_loss: 0.3147 - val_accuracy: 0.8813\n"
     ]
    },
    {
     "name": "stdout",
     "output_type": "stream",
     "text": [
      "Epoch 59/100\n",
      "32/32 [==============================] - 0s 5ms/step - loss: 0.3456 - accuracy: 0.8689 - val_loss: 0.3112 - val_accuracy: 0.8904\n",
      "Epoch 60/100\n",
      "32/32 [==============================] - 0s 5ms/step - loss: 0.3431 - accuracy: 0.8728 - val_loss: 0.3128 - val_accuracy: 0.8858\n",
      "Epoch 61/100\n",
      "32/32 [==============================] - 0s 5ms/step - loss: 0.3422 - accuracy: 0.8679 - val_loss: 0.3087 - val_accuracy: 0.8813\n",
      "Epoch 62/100\n",
      "32/32 [==============================] - 0s 5ms/step - loss: 0.3398 - accuracy: 0.8718 - val_loss: 0.3051 - val_accuracy: 0.8858\n",
      "Epoch 63/100\n",
      "32/32 [==============================] - 0s 5ms/step - loss: 0.3373 - accuracy: 0.8708 - val_loss: 0.3015 - val_accuracy: 0.8904\n",
      "Epoch 64/100\n",
      "32/32 [==============================] - 0s 5ms/step - loss: 0.3355 - accuracy: 0.8708 - val_loss: 0.3035 - val_accuracy: 0.8813\n",
      "Epoch 65/100\n",
      "32/32 [==============================] - 0s 5ms/step - loss: 0.3340 - accuracy: 0.8689 - val_loss: 0.3035 - val_accuracy: 0.8858\n",
      "Epoch 66/100\n",
      "32/32 [==============================] - 0s 5ms/step - loss: 0.3323 - accuracy: 0.8738 - val_loss: 0.2987 - val_accuracy: 0.8858\n",
      "Epoch 67/100\n",
      "32/32 [==============================] - 0s 5ms/step - loss: 0.3308 - accuracy: 0.8718 - val_loss: 0.2947 - val_accuracy: 0.8904\n",
      "Epoch 68/100\n",
      "32/32 [==============================] - 0s 6ms/step - loss: 0.3292 - accuracy: 0.8728 - val_loss: 0.2958 - val_accuracy: 0.8858\n",
      "Epoch 69/100\n",
      "32/32 [==============================] - 0s 5ms/step - loss: 0.3283 - accuracy: 0.8738 - val_loss: 0.2932 - val_accuracy: 0.8858\n",
      "Epoch 70/100\n",
      "32/32 [==============================] - 0s 5ms/step - loss: 0.3268 - accuracy: 0.8748 - val_loss: 0.2936 - val_accuracy: 0.8858\n",
      "Epoch 71/100\n",
      "32/32 [==============================] - 0s 5ms/step - loss: 0.3252 - accuracy: 0.8777 - val_loss: 0.2899 - val_accuracy: 0.8904\n",
      "Epoch 72/100\n",
      "32/32 [==============================] - 0s 5ms/step - loss: 0.3241 - accuracy: 0.8738 - val_loss: 0.2895 - val_accuracy: 0.8858\n",
      "Epoch 73/100\n",
      "32/32 [==============================] - 0s 5ms/step - loss: 0.3227 - accuracy: 0.8748 - val_loss: 0.2865 - val_accuracy: 0.8904\n",
      "Epoch 74/100\n",
      "32/32 [==============================] - 0s 6ms/step - loss: 0.3221 - accuracy: 0.8767 - val_loss: 0.2893 - val_accuracy: 0.8858\n",
      "Epoch 75/100\n",
      "32/32 [==============================] - 0s 5ms/step - loss: 0.3206 - accuracy: 0.8767 - val_loss: 0.2875 - val_accuracy: 0.8858\n",
      "Epoch 76/100\n",
      "32/32 [==============================] - 0s 6ms/step - loss: 0.3199 - accuracy: 0.8757 - val_loss: 0.2838 - val_accuracy: 0.8904\n",
      "Epoch 77/100\n",
      "32/32 [==============================] - 0s 5ms/step - loss: 0.3181 - accuracy: 0.8748 - val_loss: 0.2851 - val_accuracy: 0.8904\n",
      "Epoch 78/100\n",
      "32/32 [==============================] - 0s 5ms/step - loss: 0.3178 - accuracy: 0.8787 - val_loss: 0.2819 - val_accuracy: 0.8904\n",
      "Epoch 79/100\n",
      "32/32 [==============================] - 0s 5ms/step - loss: 0.3166 - accuracy: 0.8806 - val_loss: 0.2820 - val_accuracy: 0.8904\n",
      "Epoch 80/100\n",
      "32/32 [==============================] - 0s 6ms/step - loss: 0.3160 - accuracy: 0.8777 - val_loss: 0.2800 - val_accuracy: 0.8904\n",
      "Epoch 81/100\n",
      "32/32 [==============================] - 0s 5ms/step - loss: 0.3150 - accuracy: 0.8806 - val_loss: 0.2820 - val_accuracy: 0.8904\n",
      "Epoch 82/100\n",
      "32/32 [==============================] - 0s 5ms/step - loss: 0.3130 - accuracy: 0.8777 - val_loss: 0.2774 - val_accuracy: 0.8904\n",
      "Epoch 83/100\n",
      "32/32 [==============================] - 0s 5ms/step - loss: 0.3130 - accuracy: 0.8816 - val_loss: 0.2801 - val_accuracy: 0.8904\n",
      "Epoch 84/100\n",
      "32/32 [==============================] - 0s 5ms/step - loss: 0.3117 - accuracy: 0.8826 - val_loss: 0.2774 - val_accuracy: 0.8904\n",
      "Epoch 85/100\n",
      "32/32 [==============================] - 0s 5ms/step - loss: 0.3114 - accuracy: 0.8816 - val_loss: 0.2761 - val_accuracy: 0.8904\n",
      "Epoch 86/100\n",
      "32/32 [==============================] - 0s 5ms/step - loss: 0.3102 - accuracy: 0.8806 - val_loss: 0.2759 - val_accuracy: 0.8904\n",
      "Epoch 87/100\n",
      "32/32 [==============================] - 0s 5ms/step - loss: 0.3096 - accuracy: 0.8806 - val_loss: 0.2752 - val_accuracy: 0.8904\n",
      "Epoch 88/100\n",
      "32/32 [==============================] - 0s 5ms/step - loss: 0.3085 - accuracy: 0.8816 - val_loss: 0.2739 - val_accuracy: 0.8904\n",
      "Epoch 89/100\n",
      "32/32 [==============================] - 0s 5ms/step - loss: 0.3081 - accuracy: 0.8845 - val_loss: 0.2768 - val_accuracy: 0.8904\n",
      "Epoch 90/100\n",
      "32/32 [==============================] - 0s 5ms/step - loss: 0.3074 - accuracy: 0.8826 - val_loss: 0.2724 - val_accuracy: 0.8904\n",
      "Epoch 91/100\n",
      "32/32 [==============================] - 0s 5ms/step - loss: 0.3063 - accuracy: 0.8836 - val_loss: 0.2732 - val_accuracy: 0.8904\n",
      "Epoch 92/100\n",
      "32/32 [==============================] - 0s 5ms/step - loss: 0.3059 - accuracy: 0.8845 - val_loss: 0.2732 - val_accuracy: 0.8904\n",
      "Epoch 93/100\n",
      "32/32 [==============================] - 0s 5ms/step - loss: 0.3049 - accuracy: 0.8816 - val_loss: 0.2736 - val_accuracy: 0.8904\n",
      "Epoch 94/100\n",
      "32/32 [==============================] - 0s 5ms/step - loss: 0.3043 - accuracy: 0.8865 - val_loss: 0.2738 - val_accuracy: 0.8904\n",
      "Epoch 95/100\n",
      "32/32 [==============================] - 0s 6ms/step - loss: 0.3041 - accuracy: 0.8865 - val_loss: 0.2694 - val_accuracy: 0.8904\n",
      "Epoch 96/100\n",
      "32/32 [==============================] - 0s 6ms/step - loss: 0.3026 - accuracy: 0.8816 - val_loss: 0.2727 - val_accuracy: 0.8904\n",
      "Epoch 97/100\n",
      "32/32 [==============================] - 0s 6ms/step - loss: 0.3024 - accuracy: 0.8836 - val_loss: 0.2721 - val_accuracy: 0.8904\n",
      "Epoch 98/100\n",
      "32/32 [==============================] - 0s 5ms/step - loss: 0.3020 - accuracy: 0.8845 - val_loss: 0.2683 - val_accuracy: 0.8904\n",
      "Epoch 99/100\n",
      "32/32 [==============================] - 0s 5ms/step - loss: 0.3013 - accuracy: 0.8836 - val_loss: 0.2696 - val_accuracy: 0.8904\n",
      "Epoch 100/100\n",
      "32/32 [==============================] - 0s 5ms/step - loss: 0.3004 - accuracy: 0.8855 - val_loss: 0.2701 - val_accuracy: 0.8904\n"
     ]
    }
   ],
   "source": [
    "#We can now see that the model is training! \n",
    "#By looking at the numbers, we should be able to see the loss decrease and the accuracy increase over time\n",
    "hist = model.fit(X_train, Y_train,\n",
    "          batch_size=32, epochs=100,\n",
    "          validation_data=(X_val, Y_val))"
   ]
  },
  {
   "cell_type": "code",
   "execution_count": 13,
   "id": "837b9beb",
   "metadata": {},
   "outputs": [
    {
     "name": "stdout",
     "output_type": "stream",
     "text": [
      "7/7 [==============================] - 0s 2ms/step - loss: 0.2534 - accuracy: 0.8813\n"
     ]
    },
    {
     "data": {
      "text/plain": [
       "0.8812785148620605"
      ]
     },
     "execution_count": 13,
     "metadata": {},
     "output_type": "execute_result"
    }
   ],
   "source": [
    "#calculating the accuracy of our ANN model\n",
    "model.evaluate(X_test, Y_test)[1]"
   ]
  },
  {
   "cell_type": "code",
   "execution_count": null,
   "id": "1f9c7d8e",
   "metadata": {},
   "outputs": [],
   "source": [
    "#We see that our ANN model fot prediciting House Prices will be 88.13%"
   ]
  },
  {
   "cell_type": "code",
   "execution_count": null,
   "id": "3e39ec75",
   "metadata": {},
   "outputs": [],
   "source": []
  },
  {
   "cell_type": "code",
   "execution_count": null,
   "id": "9d4fc99f",
   "metadata": {},
   "outputs": [],
   "source": []
  }
 ],
 "metadata": {
  "kernelspec": {
   "display_name": "Python 3 (ipykernel)",
   "language": "python",
   "name": "python3"
  },
  "language_info": {
   "codemirror_mode": {
    "name": "ipython",
    "version": 3
   },
   "file_extension": ".py",
   "mimetype": "text/x-python",
   "name": "python",
   "nbconvert_exporter": "python",
   "pygments_lexer": "ipython3",
   "version": "3.10.8"
  }
 },
 "nbformat": 4,
 "nbformat_minor": 5
}
